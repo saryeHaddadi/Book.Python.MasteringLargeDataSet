{
 "cells": [
  {
   "cell_type": "markdown",
   "metadata": {},
   "source": [
    "filterFalse\n",
    "keyFiter\n",
    "valFilter\n",
    "itemFilter\n",
    "   "
   ]
  },
  {
   "cell_type": "code",
   "execution_count": 2,
   "metadata": {},
   "outputs": [
    {
     "name": "stdout",
     "output_type": "stream",
     "text": [
      "[0, 2, 4, 6, 8]\n"
     ]
    }
   ],
   "source": [
    "# Filter\n",
    "def is_even(x):\n",
    "   return x%2 == 0\n",
    "\n",
    "print(list(filter(is_even, range(10))))\n",
    "# [0,2,4,6,8]"
   ]
  },
  {
   "cell_type": "code",
   "execution_count": 3,
   "metadata": {},
   "outputs": [
    {
     "name": "stdout",
     "output_type": "stream",
     "text": [
      "[1, 3, 5, 7, 9]\n",
      "[2, 4]\n",
      "[1, 3, 5]\n",
      "[2, 4]\n"
     ]
    }
   ],
   "source": [
    "from itertools import filterfalse\n",
    "from toolz.dicttoolz import keyfilter, valfilter, itemfilter\n",
    "\n",
    "def is_even(x):\n",
    "    return x%2 == 0\n",
    "\n",
    "def both_are_even(x):\n",
    "    k,v = x\n",
    "    return (is_even(k) and is_even(v))\n",
    "\n",
    "print(list(filterfalse(is_even, range(10))))\n",
    "# [1, 3, 5, 7, 9]\n",
    "\n",
    "print(list(keyfilter(is_even, {1:2, 2:3, 3:4, 4:5, 5:6})))\n",
    "# [2, 4]\n",
    "\n",
    "print(list(valfilter(is_even, {1:2, 2:3, 3:4, 4:5, 5:6})))\n",
    "# [1, 3, 5]\n",
    "\n",
    "print(list(itemfilter(both_are_even, {1:5, 2:4, 3:3, 4:2, 5:1})))\n",
    "# [2, 4]"
   ]
  },
  {
   "cell_type": "code",
   "execution_count": null,
   "metadata": {},
   "outputs": [],
   "source": [
    "# Ice cream sales & day temprature zipped\n",
    "ice_cream_sales = [27, 21, 39, 31, 12, 40, 11, 18, 30, 19, 24, 35, 31, 12]\n",
    "temperatures = [75, 97, 88, 99, 81, 92, 91, 84, 84, 93, 100, 86, 90, 75]\n",
    "\n",
    "ice_cream_data = zip(ice_cream_sales, temperatures)\n",
    "print(list(ice_cream_data))\n",
    "# [(27,75), (21,97), (39,88), ... (12,75)]"
   ]
  },
  {
   "cell_type": "markdown",
   "metadata": {},
   "source": [
    "# 4.3 Iterators"
   ]
  },
  {
   "cell_type": "code",
   "execution_count": 6,
   "metadata": {},
   "outputs": [
    {
     "name": "stdout",
     "output_type": "stream",
     "text": [
      "mongoose\n",
      "mouse\n",
      "minnesota\n",
      "['mars', 'cream', 'cucumber', 'elementary', 'empire']\n"
     ]
    }
   ],
   "source": [
    "words = [\"apple\",\"mongoose\",\"walk\",\"mouse\",\"good\",\n",
    "         \"pineapple\",\"yeti\",\"minnesota\",\"mars\",\n",
    "         \"phone\",\"cream\",\"cucumber\",\"coffee\",\"elementary\",\n",
    "         \"sinister\",\"science\",\"empire\"]\n",
    "\n",
    "def contains_m(s):\n",
    "    return (\"m\" in s.lower())\n",
    "\n",
    "m_words = filter(contains_m, words)\n",
    "\n",
    "print(next(m_words))\n",
    "print(next(m_words))\n",
    "print(next(m_words))\n",
    "\n",
    "print(list(m_words))\n",
    "# [\"mars\",\"cream\",\"cucumber\",\"elementary\", \"empire\" ]"
   ]
  },
  {
   "cell_type": "markdown",
   "metadata": {},
   "source": [
    "# Generator"
   ]
  },
  {
   "cell_type": "code",
   "execution_count": null,
   "metadata": {},
   "outputs": [],
   "source": [
    "# Generator: if we are planing of using the iterator multiple time\n",
    "# - also, we do not generate the list upfront\n",
    "# - thus, we can work with more data, without incuring memory overhead!\n",
    "def even_numbers(n):\n",
    "    i = 1\n",
    "    while i <= n:\n",
    "        yield i*2\n",
    "        i += 1\n",
    "\n",
    "# The same, but using a Generator Expression. It resembles a list comprehension, (we use parenthesis, instead of square brakets)\n",
    "# Note: when to use list comprehension?\n",
    "# - If we want access to a specific element, or if we’ll need repeated access to the sequence\n",
    "first_100_even = (i*2 for i in range(1,101))"
   ]
  },
  {
   "cell_type": "code",
   "execution_count": null,
   "metadata": {},
   "outputs": [],
   "source": [
    "from itertools import count\n",
    "evens = (i*2 for i in count())"
   ]
  },
  {
   "cell_type": "code",
   "execution_count": null,
   "metadata": {},
   "outputs": [],
   "source": [
    "from itertools import islice\n",
    "islice(evens, 5,10)"
   ]
  }
 ],
 "metadata": {
  "interpreter": {
   "hash": "bea296810ff8696fd5270fae0606ec0f0cbf03e9ace3bb73829996d6115ba5f9"
  },
  "kernelspec": {
   "display_name": "Python 3.10.0 64-bit ('.MasteringLargeDataSet': venv)",
   "name": "python3"
  },
  "language_info": {
   "codemirror_mode": {
    "name": "ipython",
    "version": 3
   },
   "file_extension": ".py",
   "mimetype": "text/x-python",
   "name": "python",
   "nbconvert_exporter": "python",
   "pygments_lexer": "ipython3",
   "version": "3.10.0"
  },
  "orig_nbformat": 4
 },
 "nbformat": 4,
 "nbformat_minor": 2
}
