{
 "cells": [
  {
   "cell_type": "markdown",
   "metadata": {},
   "source": [
    "# 3.1 Function Pipelines "
   ]
  },
  {
   "cell_type": "code",
   "execution_count": null,
   "metadata": {},
   "outputs": [],
   "source": [
    "import re\n",
    "\n",
    "def replace_7t(s):\n",
    "    return s.replace('7','t')\n",
    "def replace_3e(s):\n",
    "    return s.replace('3','e')\n",
    "def replace_6g(s):\n",
    "    return s.replace('6','g')\n",
    "def replace_4a(s):\n",
    "    return s.replace('4','a')\n",
    "\n",
    "class chinese_matcher:\n",
    "    def __init__(self):\n",
    "        self.r = re.compile(r'[\\u4e00-\\u9fff]+')\n",
    "\n",
    "    def sub_chinese(self,s):\n",
    "        return self.r.sub(s, \" \")\n",
    "\n",
    "sample_messages = 'a'"
   ]
  },
  {
   "cell_type": "markdown",
   "metadata": {},
   "source": [
    "\n",
    "\n",
    "Creating pipelines of helper functions provides two major advantages. The code becomes\n",
    "- Very readable and clear\n",
    "- Modular and easy to edit\n"
   ]
  },
  {
   "cell_type": "code",
   "execution_count": null,
   "metadata": {},
   "outputs": [],
   "source": [
    "# Methode 1 - map only\n",
    "C = chinese_matcher()\n",
    "map(C.sub_chinese,\n",
    "        map(replace_4a,\n",
    "            map(replace_6g,\n",
    "                map(replace_3e,\n",
    "                    map(replace_7t, sample_messages)))))"
   ]
  },
  {
   "cell_type": "code",
   "execution_count": null,
   "metadata": {},
   "outputs": [],
   "source": [
    "# Methode 2 - map + compose\n",
    "from toolz.functoolz import compose\n",
    "\n",
    "hacker_translate = compose(C.sub_chinese,\n",
    "                           replace_4a, replace_6g,\n",
    "                           replace_3e, replace_7t)\n",
    "map(hacker_translate, sample_messages)"
   ]
  },
  {
   "cell_type": "code",
   "execution_count": null,
   "metadata": {},
   "outputs": [],
   "source": [
    "# Method 3 - map + pipe\n",
    "from toolz.functoolz import pipe\n",
    "\n",
    "def hacker_translate(s):\n",
    "        return pipe(s,\n",
    "                    replace_7t, replace_3e,\n",
    "                    replace_6g, replace_4a, C.sub_chinese)\n",
    "map(hacker_translate,sample_messages)"
   ]
  },
  {
   "cell_type": "markdown",
   "metadata": {},
   "source": [
    "# 3.3 Twitter demographic projections"
   ]
  },
  {
   "cell_type": "markdown",
   "metadata": {},
   "source": [
    "Now, predicting the gender of a Twitter user from several Tweet IDs is not one task; it’s actually several tasks. To accomplish this, we’re going to have to do the following:\n",
    "- (t) Retrieve the tweets represented by those IDs\n",
    "- (t) Extract the tweet text from those tweets\n",
    "- (t) Tokenize the extracted text\n",
    "- (t) Score the tokens\n",
    "- (u) Score users based on their tweet scores\n",
    "- (u) Categorize the users based on their score\n",
    "\n",
    "Looking at the list of tasks, we can actually break down our process into two transformations:\n",
    "- those that are happening at the user level\n",
    "- those that are happening at the tweet level"
   ]
  }
 ],
 "metadata": {
  "language_info": {
   "name": "python"
  },
  "orig_nbformat": 4
 },
 "nbformat": 4,
 "nbformat_minor": 2
}
