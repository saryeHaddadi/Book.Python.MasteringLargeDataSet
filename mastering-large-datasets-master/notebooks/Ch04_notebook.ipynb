{
 "cells": [
  {
   "cell_type": "markdown",
   "metadata": {},
   "source": [
    "Chapter 4. Processing large datasets with lazy workflows\n",
    "====\n",
    "### Mastering Large Datasets with Python by JT Wolohan \n",
    "\n"
   ]
  },
  {
   "cell_type": "markdown",
   "metadata": {},
   "source": [
    "### Poem Puzzle\n",
    "Remember to run the poem generation script before you run this code!"
   ]
  },
  {
   "cell_type": "code",
   "execution_count": null,
   "metadata": {},
   "outputs": [],
   "source": [
    "import toolz\n",
    "import re, itertools\n",
    "from glob import iglob"
   ]
  },
  {
   "cell_type": "code",
   "execution_count": null,
   "metadata": {},
   "outputs": [],
   "source": [
    "def word_ratio(d):\n",
    "    \"\"\"This helper function returns the ratio of a's to the's\"\"\"\n",
    "    return float(d.get(\"a\",0))/float(d.get(\"the\",0.0001))"
   ]
  },
  {
   "cell_type": "code",
   "execution_count": null,
   "metadata": {},
   "outputs": [],
   "source": [
    "Class PoemCleaner:\n",
    "    def __init__(self):\n",
    "        self.r = re.compile(r'[.,;:!-]')\n",
    "\n",
    "    def clean_poem(self, fp):\n",
    "        \"\"\"This helper function opens a poem at a filepath and returns a clean poem.\n",
    "\n",
    "        A clean poem will be a punctuation-less sequence of lowercase words, in\n",
    "        the order that the author of the poem placed them.\n",
    "        \"\"\"\n",
    "        with open(fp) as poem:\n",
    "            no_punc = self.r.sub(\"\",poem.read())\n",
    "            return no_punc.lower().split()"
   ]
  },
  {
   "cell_type": "code",
   "execution_count": null,
   "metadata": {},
   "outputs": [],
   "source": [
    "def word_is_desired(w):\n",
    "    \"\"\"This helper function detects whether a word is \"a\" or \"the\".\n",
    "\n",
    "    It is designed to be used in conjunction with filter to filter a sequence\n",
    "    of words down to just definite and indefinite articles.\n",
    "    \"\"\"\n",
    "    if w in [\"a\",\"the\"]:\n",
    "        return True\n",
    "    else:\n",
    "        return False"
   ]
  },
  {
   "cell_type": "code",
   "execution_count": null,
   "metadata": {},
   "outputs": [],
   "source": [
    "def analyze_poems(poems, cleaner):\n",
    "    return word_ratio(\n",
    "        toolz.frequencies(\n",
    "            filter(word_is_desired,\n",
    "                itertools.chain(*map(cleaner.clean_poem, poems)))))"
   ]
  },
  {
   "cell_type": "code",
   "execution_count": null,
   "metadata": {},
   "outputs": [],
   "source": [
    "Cleaner = PoemCleaner()\n",
    "author_a_poems = iglob(\"author_a/*.txt\")\n",
    "author_b_poems = iglob(\"author_b/*.txt\")\n",
    "\n",
    "author_a_ratio = analyze_poems(author_a_poems, Cleaner)\n",
    "author_b_ratio = analyze_poems(author_b_poems, Cleaner)\n",
    "\n",
    "print(\"\"\"\n",
    "Original_Poem:  0.3\n",
    "Author A:     {:.2f}\n",
    "Author B:     {:.2f}\n",
    "\"\"\".format(author_a_ratio, author_b_ratio))"
   ]
  },
  {
   "cell_type": "markdown",
   "metadata": {},
   "source": [
    "### Fishing village simulation"
   ]
  },
  {
   "cell_type": "code",
   "execution_count": null,
   "metadata": {},
   "outputs": [],
   "source": [
    "import random, itertools\n",
    "from operator import methodcaller"
   ]
  },
  {
   "cell_type": "code",
   "execution_count": null,
   "metadata": {},
   "outputs": [],
   "source": [
    "class Village:\n",
    "  def __init__(self):\n",
    "    self.population = random.uniform(1000,5000)\n",
    "    self.cheat_rate = random.uniform(.05,.15)\n",
    "\n",
    "  def update(self, sim):\n",
    "    if sim.cheaters >= 2:\n",
    "      self.cheat_rate += .05\n",
    "    self.population = int(self.population*1.025)\n",
    "\n",
    "  def go_fishing(self):\n",
    "    if random.uniform(0,1) < self.cheat_rate:\n",
    "      cheat = 1\n",
    "      fish_taken = self.population * 2\n",
    "    else:\n",
    "      cheat = 0\n",
    "      fish_taken = self.population * 1\n",
    "    return fish_taken, cheat"
   ]
  },
  {
   "cell_type": "code",
   "execution_count": null,
   "metadata": {},
   "outputs": [],
   "source": [
    "class LakeSimulation:\n",
    "  def __init__(self):\n",
    "    self.villages = [Village() for _ in range(4)]\n",
    "    self.fish = 80000\n",
    "    self.year = 1\n",
    "    self.cheaters = 0\n",
    "\n",
    "  def simulate(self):\n",
    "    for _ in itertools.count():\n",
    "        yearly_results = map(methodcaller(\"go_fishing\"), self.villages)\n",
    "        fishs, cheats = zip(*yearly_results)\n",
    "        total_fished = sum(fishs)\n",
    "        self.cheaters = sum(cheats)\n",
    "        if self.year > 1000:\n",
    "            print(\"Wow! Your villages lasted 1000 years!\")\n",
    "            break\n",
    "        if self.fish < total_fished:\n",
    "            print(\"The lake was overfished in {} years.\".format(self.year))\n",
    "            break\n",
    "        else:\n",
    "            self.fish = (self.fish-total_fished)* 1.15\n",
    "            map(methodcaller(\"update\"), self.villages)\n",
    "            print(\"Year {:<5}   Fish: {}\".format(self.year,\n",
    "                                                 int(self.fish)))\n",
    "            self.year += 1"
   ]
  },
  {
   "cell_type": "code",
   "execution_count": null,
   "metadata": {},
   "outputs": [],
   "source": [
    "random.seed(\"Wolohan\")\n",
    "Lake = LakeSimulation()\n",
    "Lake.simulate()"
   ]
  },
  {
   "cell_type": "markdown",
   "metadata": {},
   "source": [
    "[Read for more? Go to chapter 5!](./Ch05_notebook.ipynb)"
   ]
  }
 ],
 "metadata": {
  "kernelspec": {
   "display_name": "mldbook",
   "language": "python",
   "name": "mldbook"
  },
  "language_info": {
   "codemirror_mode": {
    "name": "ipython",
    "version": 3
   },
   "file_extension": ".py",
   "mimetype": "text/x-python",
   "name": "python",
   "nbconvert_exporter": "python",
   "pygments_lexer": "ipython3",
   "version": "3.5.3"
  }
 },
 "nbformat": 4,
 "nbformat_minor": 2
}
