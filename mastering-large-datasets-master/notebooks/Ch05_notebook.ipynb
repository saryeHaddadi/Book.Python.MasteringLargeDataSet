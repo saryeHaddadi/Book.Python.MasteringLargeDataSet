{
 "cells": [
  {
   "cell_type": "markdown",
   "metadata": {},
   "source": [
    "Chapter 5. Accumulation operations with Reduce\n",
    "====\n",
    "### Mastering Large Datasets with Python by JT Wolohan \n",
    "\n"
   ]
  },
  {
   "cell_type": "markdown",
   "metadata": {},
   "source": [
    "### Early chapter functions: Frequnecy and filter"
   ]
  },
  {
   "cell_type": "code",
   "execution_count": null,
   "metadata": {},
   "outputs": [],
   "source": [
    "from functools import reduce\n",
    "\n",
    "xs = [1, 2, 3, 4, 5, 6, 7, 8, 9]\n",
    "\n",
    "def keep_if_even(acc, nxt):\n",
    "    if nxt % 2 == 0:\n",
    "        return acc + [nxt]\n",
    "    else:\n",
    "        return acc\n",
    "\n",
    "\n",
    "reduce(keep_if_even, xs, [])\n"
   ]
  },
  {
   "cell_type": "code",
   "execution_count": null,
   "metadata": {},
   "outputs": [],
   "source": [
    "from functools import reduce\n",
    "\n",
    "xs = [\"A\", \"B\", \"C\", \"A\", \"A\", \"C\", \"A\"]\n",
    "ys = [1, 3, 6, 1, 2, 9, 3, 12]\n",
    "\n",
    "\n",
    "def make_counts(acc, nxt):\n",
    "    acc[nxt] = acc.get(nxt, 0) + 1\n",
    "    return acc\n",
    "\n",
    "\n",
    "def my_frequencies(xs):\n",
    "    return reduce(make_counts, xs, {})\n",
    "\n",
    "\n",
    "print(my_frequencies(xs))\n",
    "print(my_frequencies(ys))\n",
    "print(my_frequencies(\"mississippi\"))"
   ]
  },
  {
   "cell_type": "markdown",
   "metadata": {},
   "source": [
    "### Analyzing car trends with reduce"
   ]
  },
  {
   "cell_type": "markdown",
   "metadata": {},
   "source": [
    "**SCENARIO:  CHANGING  CAR  TRENDS** *Your  customer  is  a used  car  dealer.  They  have data on cars that they’ve bought and sold in the last 6 months and are hoping you can help them find what type of used cars they make the most profit on. One salesman believes that its high fuel-efficiency cars (those that get more than 35 miles per gallon) that make the most  money,  while  another believe  that  medium-mileage  cars  (between  60,000  and 100,000 miles) result in the highest average profit on resale. Given a CSV file with a variety of attributes about some used cars, write a script to find the average profit on cars of low (<18 mpg), medium (18-35 mpg) and high (>35) fuel-efficiency as well as low (<60,000), medium (60,000-100,000), and high mileage (>100,000) and settle the debate.*"
   ]
  },
  {
   "cell_type": "code",
   "execution_count": null,
   "metadata": {},
   "outputs": [],
   "source": [
    "from functools import reduce\n",
    "\n",
    "def low_med_hi(d, k, breaks):\n",
    "    if float(d[k]) < breaks[0]:\n",
    "        return \"low\"\n",
    "    elif float(d[k]) < breaks[1]:\n",
    "        return \"medium\"\n",
    "    else:\n",
    "        return \"high\""
   ]
  },
  {
   "cell_type": "code",
   "execution_count": null,
   "metadata": {},
   "outputs": [],
   "source": [
    "def clean_entry(d):\n",
    "    r = {'profit':None, 'mpg':None, 'odo':None}\n",
    "    r['profit'] = float(d.get(\"price-sell\", 0)) - float(d.get(\"price-buy\", 0))\n",
    "    r['mpg'] = low_med_hi(d, 'mpg', (18, 35))\n",
    "    r['odo'] = low_med_hi(d, 'odo', (60000, 105000))\n",
    "    return r"
   ]
  },
  {
   "cell_type": "code",
   "execution_count": null,
   "metadata": {},
   "outputs": [],
   "source": [
    "def acc_average(acc, profit):\n",
    "    acc['total'] = acc.get('total', 0) + profit\n",
    "    acc['count'] = acc.get('count', 0) + 1\n",
    "    acc['average'] = acc['total']/acc['count']\n",
    "    return acc"
   ]
  },
  {
   "cell_type": "code",
   "execution_count": null,
   "metadata": {},
   "outputs": [],
   "source": [
    "def sort_and_add(acc, nxt):\n",
    "    p = nxt['profit']\n",
    "    acc['mpg'][nxt['mpg']] = acc_average(acc['mpg'].get(nxt['mpg'], {}), p)\n",
    "    acc['odo'][nxt['odo']] = acc_average(acc['odo'].get(nxt['odo'], {}), p)\n",
    "    return acc"
   ]
  },
  {
   "cell_type": "code",
   "execution_count": null,
   "metadata": {},
   "outputs": [],
   "source": [
    "import json\n",
    "with open(\"../Ch05/cars.json\") as f:\n",
    "    xs = json.load(f)\n",
    "results = reduce(sort_and_add, map(clean_entry, xs), {\"mpg\": {}, \"odo\": {}})\n",
    "print(json.dumps(results, indent=4))"
   ]
  },
  {
   "cell_type": "markdown",
   "metadata": {},
   "source": [
    "[Read for more? Go to chapter 6!](./Ch06_notebook.ipynb)"
   ]
  }
 ],
 "metadata": {
  "kernelspec": {
   "display_name": "mldbook",
   "language": "python",
   "name": "mldbook"
  },
  "language_info": {
   "codemirror_mode": {
    "name": "ipython",
    "version": 3
   },
   "file_extension": ".py",
   "mimetype": "text/x-python",
   "name": "python",
   "nbconvert_exporter": "python",
   "pygments_lexer": "ipython3",
   "version": "3.5.3"
  }
 },
 "nbformat": 4,
 "nbformat_minor": 2
}
