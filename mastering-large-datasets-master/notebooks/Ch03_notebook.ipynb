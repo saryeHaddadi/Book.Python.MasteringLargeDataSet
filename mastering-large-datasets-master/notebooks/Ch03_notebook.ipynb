{
 "cells": [
  {
   "cell_type": "markdown",
   "metadata": {},
   "source": [
    "Chapter 3. Function pipelines for mapping complex transformations\n",
    "====\n",
    "### Mastering Large Datasets with Python by JT Wolohan \n",
    "\n"
   ]
  },
  {
   "cell_type": "markdown",
   "metadata": {},
   "source": [
    "### Hacker translation"
   ]
  },
  {
   "cell_type": "code",
   "execution_count": null,
   "metadata": {},
   "outputs": [],
   "source": [
    "import re\n",
    "from toolz.functoolz import pipe, compose\n",
    "\n",
    "sample_messages = [\n",
    "\"7his所is家4没s4mpl3动m3ss463\",\n",
    "\"don7家73ll经4nyon3法7his现m3ss463\",\n",
    "\"w3现4r3当b3in6进so好s3cr3t\",\n",
    "\"733小h33成h33去nobody看is天on分7o理us\",\n",
    "\"w3么will面n3v3r分637理c4u6ht\",\n",
    "\"w3事4r3经such没sn34ky天h4ckers\"]"
   ]
  },
  {
   "cell_type": "code",
   "execution_count": null,
   "metadata": {},
   "outputs": [],
   "source": [
    "def replace_7t(s):\n",
    "    return s.replace('7', 't')"
   ]
  },
  {
   "cell_type": "code",
   "execution_count": null,
   "metadata": {},
   "outputs": [],
   "source": [
    "def replace_3e(s):\n",
    "    return s.replace('3', 'e')"
   ]
  },
  {
   "cell_type": "code",
   "execution_count": null,
   "metadata": {},
   "outputs": [],
   "source": [
    "def replace_6g(s):\n",
    "    return s.replace('6', 'g')"
   ]
  },
  {
   "cell_type": "code",
   "execution_count": null,
   "metadata": {},
   "outputs": [],
   "source": [
    "def replace_4a(s):\n",
    "    return s.replace('4', 'a')"
   ]
  },
  {
   "cell_type": "code",
   "execution_count": null,
   "metadata": {},
   "outputs": [],
   "source": [
    "# Alternative approach\n",
    "# This function makes functions!\n",
    "def make_letter_replacer(letter_1, letter_2):\n",
    "    def replacer(s):\n",
    "        return s.replace(letter_1, letter_2)\n",
    "    return replacer\n",
    "\n",
    "alt_replace_7t = make_letter_replacer('7','t')\n",
    "alt_replace_7t = make_letter_replacer('3','e')\n",
    "alt_replace_7t = make_letter_replacer('6','g')\n",
    "alt_replace_7t = make_letter_replacer('4','a')"
   ]
  },
  {
   "cell_type": "code",
   "execution_count": null,
   "metadata": {},
   "outputs": [],
   "source": [
    "class chinese_matcher:\n",
    "    def __init__(self):\n",
    "        self.r = re.compile(r'[\\u4e00-\\u9fff]+')\n",
    "        \n",
    "    def sub_chinese(self,s):\n",
    "        return self.r.sub(\" \",s)"
   ]
  },
  {
   "cell_type": "code",
   "execution_count": null,
   "metadata": {},
   "outputs": [],
   "source": [
    "C = chinese_matcher()\n",
    "\n",
    "# Not chained\n",
    "print(list(\n",
    "map( C.sub_chinese,\n",
    "    map(replace_4a,\n",
    "        map(replace_6g,\n",
    "            map(replace_3e,\n",
    "                map(replace_7t, sample_messages)))))),end=\"\\n\\n\")"
   ]
  },
  {
   "cell_type": "code",
   "execution_count": null,
   "metadata": {},
   "outputs": [],
   "source": [
    "# Option 1\n",
    "hacker_translate = compose(C.sub_chinese, replace_4a, replace_6g,\n",
    "                           replace_3e, replace_7t)\n",
    "\n",
    "print(list(map(hacker_translate, sample_messages)),end=\"\\n\\n\")"
   ]
  },
  {
   "cell_type": "code",
   "execution_count": null,
   "metadata": {},
   "outputs": [],
   "source": [
    "# Option 2\n",
    "def hacker_translate(s):\n",
    "    return pipe(s, replace_7t, replace_3e, replace_6g,\n",
    "                   replace_4a, C.sub_chinese)\n",
    "\n",
    "print(list(map(hacker_translate,sample_messages)),end=\"\\n\\n\")"
   ]
  },
  {
   "cell_type": "markdown",
   "metadata": {},
   "source": [
    "### Twitter scraping and gender prediction"
   ]
  },
  {
   "cell_type": "code",
   "execution_count": null,
   "metadata": {},
   "outputs": [],
   "source": [
    "from multiprocessing import Pool\n",
    "from toolz import compose, pipe\n",
    "import twitter\n",
    "\n",
    "# Remember to fill in the values below with your own account details\n",
    "Twitter = twitter.Api(consumer_key=\"\",\n",
    "                      consumer_secret=\"\",\n",
    "                      access_token_key=\"\",\n",
    "                      access_token_secret=\"\")"
   ]
  },
  {
   "cell_type": "code",
   "execution_count": null,
   "metadata": {},
   "outputs": [],
   "source": [
    "def get_tweet_from_id(tweet_id, api=Twitter):\n",
    "    return api.GetStatus(tweet_id, trim_user=True)\n",
    "\n",
    "\n",
    "def tweet_to_text(tweet):\n",
    "    return tweet.text\n",
    "\n",
    "\n",
    "def tokenize_text(text):\n",
    "    return text.split()"
   ]
  },
  {
   "cell_type": "code",
   "execution_count": null,
   "metadata": {},
   "outputs": [],
   "source": [
    "def score_text(tokens):\n",
    "    words = {\"the\":1, \"to\":1, \"and\":1, #Words with 1 indicate men\n",
    "             \"in\":1, \"have\":1, \"it\":1,\n",
    "             \"be\":-1, \"of\":-1, \"a\":-1, # Words with -1 indicate women\n",
    "             \"that\":-1, \"i\":-1, \"for\":-1}\n",
    "    return sum(map(lambda x: words.get(x, 0), tokens))\n",
    "\n",
    "\n",
    "def score_tweet(tweet_id):\n",
    "    return pipe(tweet_id, get_tweet_from_id, tweet_to_text,\n",
    "                          tokenize_text, score_text)\n",
    "\n",
    "\n",
    "def score_user(tweets):\n",
    "    N = len(tweets)\n",
    "    total = sum(map(score_tweet, tweets))\n",
    "    return total/N\n"
   ]
  },
  {
   "cell_type": "code",
   "execution_count": null,
   "metadata": {},
   "outputs": [],
   "source": [
    "def categorize_user(user_score):\n",
    "    if user_score > 0:\n",
    "        return {\"score\":user_score,\n",
    "                \"gender\": \"Male\"}\n",
    "    return {\"score\":user_score,\n",
    "            \"gender\":\"Female\"}"
   ]
  },
  {
   "cell_type": "code",
   "execution_count": null,
   "metadata": {},
   "outputs": [],
   "source": [
    "users_tweets = [\n",
    "[1056365937547534341, 1056310126255034368, 1055985345341251584,\n",
    "1056585873989394432, 1056585871623966720],\n",
    "[1055986452612419584, 1056318330037002240, 1055957256162942977,\n",
    " 1056585921154420736, 1056585896898805766],\n",
    "[1056240773572771841, 1056184836900175874, 1056367465477951490,\n",
    " 1056585972765224960, 1056585968155684864],\n",
    "[1056452187897786368, 1056314736546115584, 1055172336062816258,\n",
    " 1056585983175602176, 1056585980881207297]]\n",
    "gender_prediction_pipeline = compose(categorize_user, score_user)\n",
    "with Pool() as P:\n",
    "    print(P.map(gender_prediction_pipeline, users_tweets))\n"
   ]
  },
  {
   "cell_type": "markdown",
   "metadata": {},
   "source": [
    "[Read for more? Go to chapter 4!](./Ch04_notebook.ipynb)"
   ]
  }
 ],
 "metadata": {
  "kernelspec": {
   "display_name": "mldbook",
   "language": "python",
   "name": "mldbook"
  },
  "language_info": {
   "codemirror_mode": {
    "name": "ipython",
    "version": 3
   },
   "file_extension": ".py",
   "mimetype": "text/x-python",
   "name": "python",
   "nbconvert_exporter": "python",
   "pygments_lexer": "ipython3",
   "version": "3.5.3"
  }
 },
 "nbformat": 4,
 "nbformat_minor": 2
}
