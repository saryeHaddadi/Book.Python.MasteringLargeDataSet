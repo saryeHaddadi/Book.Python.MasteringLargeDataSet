{
 "cells": [
  {
   "cell_type": "markdown",
   "metadata": {},
   "source": [
    "Chapter 11. Large datasets in the cloud with Amazon Web Services and S3\n",
    "====\n",
    "### Mastering Large Datasets with Python by JT Wolohan "
   ]
  },
  {
   "cell_type": "markdown",
   "metadata": {},
   "source": [
    "### Uploading to S3 with Boto"
   ]
  },
  {
   "cell_type": "code",
   "execution_count": null,
   "metadata": {},
   "outputs": [],
   "source": [
    "import boto3 as aws\n",
    "import os.path\n",
    "from functools import partial\n",
    "from glob import iglob"
   ]
  },
  {
   "cell_type": "code",
   "execution_count": null,
   "metadata": {},
   "outputs": [],
   "source": [
    "def upload_file(fp, bucket):\n",
    "    _, file_name = os.path.split(fp)\n",
    "    s3 = aws.client(\"s3\",\n",
    "        aws_access_key_id = \"YOURACCESSKEYID\",\n",
    "        aws_secret_access_key = \"YOURSECRETACCESSKEY\"\n",
    "    )\n",
    "    response = s3.upload_file(fp, bucket, file_name)\n",
    "    return file_name, response"
   ]
  },
  {
   "cell_type": "code",
   "execution_count": null,
   "metadata": {},
   "outputs": [],
   "source": [
    "fs = iglob(\"/path/to/data/files/*\")\n",
    "uploads = map(partial(upload_file, bucket=\"your-backet-name\"), fs)\n",
    "for file_name, _ in uploads :\n",
    "    print(file_name)"
   ]
  }
 ],
 "metadata": {
  "kernelspec": {
   "display_name": "mldbook",
   "language": "python",
   "name": "mldbook"
  },
  "language_info": {
   "codemirror_mode": {
    "name": "ipython",
    "version": 3
   },
   "file_extension": ".py",
   "mimetype": "text/x-python",
   "name": "python",
   "nbconvert_exporter": "python",
   "pygments_lexer": "ipython3",
   "version": "3.5.3"
  }
 },
 "nbformat": 4,
 "nbformat_minor": 2
}
