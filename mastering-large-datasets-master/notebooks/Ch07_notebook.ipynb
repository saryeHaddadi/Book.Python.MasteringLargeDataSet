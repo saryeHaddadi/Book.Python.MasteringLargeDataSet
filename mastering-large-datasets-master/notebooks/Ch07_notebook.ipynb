{
 "cells": [
  {
   "cell_type": "markdown",
   "metadata": {},
   "source": [
    "Chapter 7. Processing truly big datasets with Hadoop and Spark\n",
    "====\n",
    "### Mastering Large Datasets with Python by JT Wolohan \n",
    "\n"
   ]
  },
  {
   "cell_type": "markdown",
   "metadata": {},
   "source": [
    "### Spark\n",
    "One of the great benefits of Spark is that you can run Spark jobs in a Jupyter notebook, just like this one."
   ]
  },
  {
   "cell_type": "code",
   "execution_count": null,
   "metadata": {},
   "outputs": [],
   "source": [
    "import re\n",
    "from pyspark import SparkContext\n",
    "\n",
    "sc = SparkContext(appName=\"WordScores\")\n",
    "PAT = re.compile(r'[-./:\\s\\xa0]+')\n",
    "text_files = sc.textFile(\"../Ch07/*.txt\")\n",
    "xs = text_files.flatMap(lambda x:PAT.split(x))\\\n",
    "               .filter(lambda x:len(x)>6)\\\n",
    "               .countByValue()\n",
    "\n",
    "for k,v in xs.items():\n",
    "    print(\"{:<30}{}\".format(k,v))"
   ]
  },
  {
   "cell_type": "markdown",
   "metadata": {},
   "source": [
    "[Read for more? Go to chapter 9!](./Ch09_notebook.ipynb)\n",
    "\n",
    "(There's no notebook for Chapter 8. Chapter 8 focuses on Hadoop.)"
   ]
  }
 ],
 "metadata": {
  "kernelspec": {
   "display_name": "mldbook",
   "language": "python",
   "name": "mldbook"
  },
  "language_info": {
   "codemirror_mode": {
    "name": "ipython",
    "version": 3
   },
   "file_extension": ".py",
   "mimetype": "text/x-python",
   "name": "python",
   "nbconvert_exporter": "python",
   "pygments_lexer": "ipython3",
   "version": "3.5.3"
  }
 },
 "nbformat": 4,
 "nbformat_minor": 2
}
